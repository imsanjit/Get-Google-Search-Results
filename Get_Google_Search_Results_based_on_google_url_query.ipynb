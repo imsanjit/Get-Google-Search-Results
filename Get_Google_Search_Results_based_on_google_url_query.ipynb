{
  "nbformat": 4,
  "nbformat_minor": 0,
  "metadata": {
    "colab": {
      "name": "Get Google Search Results based on google url query",
      "version": "0.3.2",
      "provenance": []
    },
    "kernelspec": {
      "name": "python3",
      "display_name": "Python 3"
    }
  },
  "cells": [
    {
      "metadata": {
        "id": "rATup6kIYb7c",
        "colab_type": "code",
        "colab": {}
      },
      "cell_type": "code",
      "source": [
        "import pandas as pd\n",
        "from bs4 import BeautifulSoup\n",
        "import requests\n",
        "import csv\n",
        "\n",
        "\n",
        "file_name = input('Enter your your file name: ')\n",
        "\n",
        "full_url = input(\"Enter your google search url query: \")\n",
        "\n",
        "csv_file = open(file_name+'.csv', 'w')\n",
        "csv_writer = csv.writer(csv_file)\n",
        "csv_writer.writerow(['URL', 'Title' ])\n",
        "\n",
        "\n",
        "response = requests.get(full_url)\n",
        "html = BeautifulSoup(response.text,'lxml')\n",
        "\n",
        "\n",
        "for url in html.select('h3 > a'):\n",
        "  title = url.text\n",
        "  url = url.get('href')\n",
        "  sep1 = '/url?q='\n",
        "  url = url.split(sep1, 1)[1]\n",
        "  csv_writer.writerow([url, title])\n",
        "\n",
        "  \n",
        "  \n",
        "csv_file.close()\n",
        "\n",
        "\n",
        "print(full_url)\n",
        "print(\"File Created\")"
      ],
      "execution_count": 0,
      "outputs": []
    }
  ]
}
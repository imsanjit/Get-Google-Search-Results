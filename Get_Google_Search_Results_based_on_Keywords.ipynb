{
  "nbformat": 4,
  "nbformat_minor": 0,
  "metadata": {
    "colab": {
      "name": "Get Google Search Results based on Keywords",
      "version": "0.3.2",
      "provenance": []
    },
    "kernelspec": {
      "name": "python3",
      "display_name": "Python 3"
    }
  },
  "cells": [
    {
      "metadata": {
        "id": "lpsFsHmFYoLk",
        "colab_type": "code",
        "colab": {}
      },
      "cell_type": "code",
      "source": [
        "import pandas as pd\n",
        "from bs4 import BeautifulSoup\n",
        "import requests\n",
        "import csv\n",
        "\n",
        "\n",
        "site_name = input('Enter site url like abcd.com: ')\n",
        "keyword = input('Enter your keyword: ')\n",
        "number_of_pages = input('Enter number of results you want: ')\n",
        "keyword1 = keyword.replace(\" \",\"+\")\n",
        "\n",
        "\n",
        "query =keyword1+\"&num=\"+str(number_of_pages)+'&site:'+site_name\n",
        "\n",
        "\n",
        "full_url = \"https://www.google.co.in/search?q=\"+query\n",
        "\n",
        "csv_file = open(keyword+'.csv', 'w')\n",
        "csv_writer = csv.writer(csv_file)\n",
        "csv_writer.writerow(['URL', 'Title' ])\n",
        "\n",
        "\n",
        "response = requests.get(full_url)\n",
        "html = BeautifulSoup(response.text,'lxml')\n",
        "\n",
        "\n",
        "\n",
        "for url in html.select('h3 > a'):\n",
        "  title = url.text\n",
        "  url = url.get('href')\n",
        "  sep1 = '/url?q='\n",
        "  url = url.split(sep1, 1)[1]\n",
        "  csv_writer.writerow([url, title])\n",
        "\n",
        "  \n",
        "  \n",
        "csv_file.close()\n",
        "\n",
        "\n",
        "print(full_url)\n",
        "print(\"File Created\")"
      ],
      "execution_count": 0,
      "outputs": []
    }
  ]
}